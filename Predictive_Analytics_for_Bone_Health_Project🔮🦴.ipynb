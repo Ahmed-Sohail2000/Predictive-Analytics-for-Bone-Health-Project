{
  "nbformat": 4,
  "nbformat_minor": 0,
  "metadata": {
    "colab": {
      "provenance": [],
      "authorship_tag": "ABX9TyPhVxEtaWG5OnyV95OqlOYW",
      "include_colab_link": true
    },
    "kernelspec": {
      "name": "python3",
      "display_name": "Python 3"
    },
    "language_info": {
      "name": "python"
    }
  },
  "cells": [
    {
      "cell_type": "markdown",
      "metadata": {
        "id": "view-in-github",
        "colab_type": "text"
      },
      "source": [
        "<a href=\"https://colab.research.google.com/github/Ahmed-Sohail2000/Predictive-Analytics-for-Bone-Health-Project/blob/main/Predictive_Analytics_for_Bone_Health_Project%F0%9F%94%AE%F0%9F%A6%B4.ipynb\" target=\"_parent\"><img src=\"https://colab.research.google.com/assets/colab-badge.svg\" alt=\"Open In Colab\"/></a>"
      ]
    },
    {
      "cell_type": "code",
      "execution_count": null,
      "metadata": {
        "id": "mAZ2BxA6owYs"
      },
      "outputs": [],
      "source": []
    }
  ]
}